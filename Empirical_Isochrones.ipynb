{
 "cells": [
  {
   "cell_type": "markdown",
   "id": "af5ee309",
   "metadata": {},
   "source": [
    "# Generating empirical isochrones"
   ]
  },
  {
   "cell_type": "markdown",
   "id": "c5ef4647",
   "metadata": {},
   "source": [
    "## Aims\n",
    "\n",
    "This iPython notebook generates polynomial fits to several well-studied nearby open clusters whose ages are well agreed upon. For the purpose of the 4MOST survey we aim to use polynomial fits for NGC2547 (38-41 Myr, Jeffries et al. 2005, MNRAS, 358, 13J -- herein Jeffries+05) and the Pleiades (125+/-20 Myr, Stauffer et al. 1998, ApJ, 499L, 199S) where the adopted ages are from the (almost totally) model-independent Lithium Depletion Boundary method. The fits represent empirical isochrones in the de-reddened, extinction-corrected colour-magnitude diagrams. The present colour-magnitude diagrams we have are:\n",
    "\n",
    "(1) absolute G versus G-Ks\n",
    "\n",
    "(2) absolute G versus Bp-Rp.\n",
    "\n",
    "The code is structured such that other photometric filters can be easily included.\n",
    "\n",
    "### To this aim, the goals of this notebook are to:\n",
    "1. Collect homogeneous data for several clusters of known age.\n",
    "2. Apply corrections for reddening, extinction and some minor calibrations to Gaia EDR3 data.\n",
    "3. In each cluster, identify a set of presumably single stars for which a polynomial fit will be made in CMD space."
   ]
  },
  {
   "cell_type": "markdown",
   "id": "fc9acd30",
   "metadata": {},
   "source": [
    "## Selecting clusters and cluster members.\n",
    "\n",
    "The majority of the selected clusters (NGC 6530, $\\gamma$ Vel, NGC2547 and NGC2516) were sourced from the 6th and final data relase of [the Gaia ESO Survey](https://www.gaia-eso.eu/), and selected targets have membership probabilities >95 % based on 3D kinematics using GES RVs and Gaia EDR3 astrometry -- see Table 3 in [Jackson et al. (2022, MNRAS, 509, 1664J)](https://academic.oup.com/mnras/article/509/2/1664/6414548). Pleiades targets are sourced from Olivares et al. 2018 (A&A 617, A15; Vizier: [J/A+A/617/A15/table1](https://vizier.u-strasbg.fr/viz-bin/VizieR?-source=J/A+A/617/A15&-to=3)) with a membership probability threshold >99%. An additional sample of 47 RV-confirmed, low-mass NGC2547 members are provided from Table 1 of Jeffries+05: Vizier: [J/MNRAS/358/13/table1](https://vizier.u-strasbg.fr/viz-bin/VizieR?-source=J/MNRAS/358/13&-to=3)) that were not present in the (unfiltered) GES table. Hyades targets are extracted from Oh & Evans [(2020, MNRAS, 498, 1920O)](https://academic.oup.com/mnras/article/498/2/1920/5899755).\n",
    "\n",
    "Gaia EDR3 are collected using a simple TAP+ query with the Starlink/TOPCAT software with a search radii = 2.0\". The vast majority (>99%) of targets lie within 0.2\".\n",
    "\n",
    "| Cluster | Age (Myr) | Filters | #sources | dmod | E(B-V) |\n",
    "| --- | --- | --- | --- | --- | --- |\n",
    "| NGC6530 | 1-2 | Pmem>95% | 303 (261, 300) | 10.60 ± 0.02 ± 0.09 | 0.44 ± 0.10 |\n",
    "| gamVel | 15-20 | Pmem>95% | 189 (184, 186) | 7.73 ± 0.01 ± 0.02 | 0.04 ± 0.03 |\n",
    "| NGC2547 | 38-41 | Pmem>95% or MemFlag={1,2} | 892 (768, 398) | 7.93 ± 0.01 ± 0.03 | 0.06 ± 0.03 |\n",
    "| Pleiades | 125 ± 20 | P>99% | 193 (160, 162) | 5.65 ± 0.03 | 0.03 ± 0.01 |\n",
    "| NGC2516 | 150 ± 30 | Pmem>95% | 479 (377, 471) | 8.07 ± 0.01 ± 0.03 | 0.11 ± 0.03 |\n",
    "| Hyades | 625 ± 50 | Oh+20 | 1041 (867, 568) | Parallaxes | 0.01 ± 0.01 |\n",
    "\n",
    "The table above shows the input parameters for the extinction and reddening corrections. Column 4 shows the number of sources that satisfy membership criteria, then the numbers in parethesis are those that are within the selected colour/magnitude range for CMDs (1) and (2) after applying the extinction/reddening corrections.\n",
    "\n",
    "In both CMDs, targets have been filtered to remove source with large Bp-Rp photometric excesses as described by equation 18 in Riello et al. (2021, A&A 649, A3 -- Riello+21) and (where necessary) small Bp-Rp corrections (on the order of <0.02 mag) are applied using the coefficients supplied in table 2:\n",
    "\n",
    "With the exception of the Hyades cluster (where individual parallaxes are used), cluster members are assumed to have a fixed cluster-value for their distance modulii and E(B-V).\n"
   ]
  },
  {
   "cell_type": "code",
   "execution_count": 5,
   "id": "679f2b7e",
   "metadata": {},
   "outputs": [],
   "source": [
    "import astropy.units as u\n",
    "from astropy.coordinates import SkyCoord\n",
    "\n",
    "from astropy.io import ascii\n",
    "from astropy.table import Table\n",
    "import numpy as np\n",
    "from time import sleep\n",
    "import matplotlib.pyplot as plt"
   ]
  },
  {
   "cell_type": "markdown",
   "id": "5b1653f2",
   "metadata": {},
   "source": [
    "## Correcting for the Bp-Rp flux excess\n",
    "The following function, taken [directly from the Gaia EDR3 webpages](https://github.com/agabrown/gaiaedr3-flux-excess-correction/blob/main/FluxExcessFactorCorrectionCode.ipynb), applies the small correction due to flux excess in the Bp-Rp bands."
   ]
  },
  {
   "cell_type": "code",
   "execution_count": 6,
   "id": "a5160040",
   "metadata": {},
   "outputs": [],
   "source": [
    "def correct_flux_excess_factor(bp_rp, phot_bp_rp_excess_factor):\n",
    "    \"\"\"\n",
    "    Calculate the corrected flux excess factor for the input Gaia EDR3 data.\n",
    "    \n",
    "    Parameters\n",
    "    ----------\n",
    "    \n",
    "    bp_rp: float, numpy.ndarray\n",
    "        The (BP-RP) colour listed in the Gaia EDR3 archive.\n",
    "    phot_bp_rp_excess_factor: float, numpy.ndarray\n",
    "        The flux excess factor listed in the Gaia EDR3 archive.\n",
    "        \n",
    "    Returns\n",
    "    -------\n",
    "    \n",
    "    The corrected value for the flux excess factor, which is zero for \"normal\" stars.\n",
    "    \n",
    "    Example\n",
    "    -------\n",
    "    \n",
    "    phot_bp_rp_excess_factor_corr = correct_flux_excess_factor(bp_rp, phot_bp_rp_flux_excess_factor)\n",
    "    \"\"\"\n",
    "    if np.isscalar(bp_rp) or np.isscalar(phot_bp_rp_excess_factor):\n",
    "        bp_rp = np.float64(bp_rp)\n",
    "        phot_bp_rp_excess_factor = np.float64(phot_bp_rp_excess_factor)\n",
    "    \n",
    "    if bp_rp.shape != phot_bp_rp_excess_factor.shape:\n",
    "        raise ValueError('Function parameters must be of the same shape!')\n",
    "        \n",
    "    do_not_correct = np.isnan(bp_rp)\n",
    "    bluerange = np.logical_not(do_not_correct) & (bp_rp < 0.5)\n",
    "    greenrange = np.logical_not(do_not_correct) & (bp_rp >= 0.5) & (bp_rp < 4.0)\n",
    "    redrange = np.logical_not(do_not_correct) & (bp_rp > 4.0)\n",
    "    \n",
    "    correction = np.zeros_like(bp_rp)\n",
    "    correction[bluerange] = 1.154360 + 0.033772*bp_rp[bluerange] + 0.032277*np.power(bp_rp[bluerange], 2)\n",
    "    correction[greenrange] = 1.162004 + 0.011464*bp_rp[greenrange] + 0.049255*np.power(bp_rp[greenrange], 2) \\\n",
    "        - 0.005879*np.power(bp_rp[greenrange], 3)\n",
    "    correction[redrange] = 1.057572 + 0.140537*bp_rp[redrange]\n",
    "    \n",
    "    return phot_bp_rp_excess_factor - correction\n"
   ]
  },
  {
   "cell_type": "markdown",
   "id": "868195c0",
   "metadata": {},
   "source": [
    "## Removing sources with extreme Bp-Rp flux excess values\n",
    "A simple function to remove sources whose flux excess lie outside of an n-sigma range, following section 9.4 in Riello+21."
   ]
  },
  {
   "cell_type": "code",
   "execution_count": 7,
   "id": "d9462060",
   "metadata": {},
   "outputs": [],
   "source": [
    "def photclean(data,nsig):\n",
    "    phot_excess = correct_flux_excess_factor(data['BPRP'],data['BPRP_excess'])\n",
    "    condphot = np.abs(phot_excess) < nsig*(0.0059898+8.817481e-12*data['Gmag']**(7.618399))\n",
    "    data[\"BPRPcorr\"] = phot_excess\n",
    "    dataclean = data[condphot]                                             \n",
    "    return dataclean"
   ]
  },
  {
   "cell_type": "markdown",
   "id": "fe9225b3",
   "metadata": {},
   "source": [
    "## Quadrature sum of orthogonal error components\n",
    "Some E(B-V) and distance modulus errors are broken down into statistical and systematic components. This function simply adds them in quadrature in case we need to use them at a later date."
   ]
  },
  {
   "cell_type": "code",
   "execution_count": 8,
   "id": "021c3184",
   "metadata": {},
   "outputs": [],
   "source": [
    "def quad_sum(*args):\n",
    "    return np.sqrt(np.sum([i**2 for i in args]))"
   ]
  },
  {
   "cell_type": "markdown",
   "id": "6de228a0",
   "metadata": {},
   "source": [
    "## Converting E(B-V) to extinction/reddening corrections in various CMDs\n",
    "This function uses the polynomial coefficients from the [table provided in the Gaia EDR3 documentation](https://www.cosmos.esa.int/web/gaia/edr3-extinction-law), reads in the required colour and magnitude needed and returns the corrections needed to apply the approriate reddening. "
   ]
  },
  {
   "cell_type": "code",
   "execution_count": 9,
   "id": "ceb7ab72",
   "metadata": {},
   "outputs": [],
   "source": [
    "def get_ext(A, c, m, p):\n",
    "    p = np.array(list(p[0]))[:10].astype(float)\n",
    "    return (p[0] + p[1]*c   + p[2]*c**2   + p[3]*c**3 +\n",
    "                   p[4]*A   + p[5]*A**2   + p[6]*A**3 +\n",
    "                   p[7]*A*c + p[8]*A*c**2 + p[9]*A**2*c)"
   ]
  },
  {
   "cell_type": "markdown",
   "id": "1c78785d",
   "metadata": {},
   "source": [
    "## Return the polynomial fit\n",
    "Simple function return the polynomial coefficients calculated for the selected single empirical sequence. "
   ]
  },
  {
   "cell_type": "code",
   "execution_count": 10,
   "id": "0f3261d9",
   "metadata": {},
   "outputs": [],
   "source": [
    "def make_fit(n_order, poly, data):\n",
    "    fit = 0\n",
    "    for i in range(n_order+1):\n",
    "        print(i, n_order-i)\n",
    "        fit = fit + data**(n_order-i)*poly[i]\n",
    "    return fit"
   ]
  },
  {
   "cell_type": "markdown",
   "id": "403bb6dd",
   "metadata": {},
   "source": [
    "## Setting up the colour-magnitude diagram\n",
    "There are several processes involved in this function:\n",
    "1. Calculate three separate extinction corrections: one for the magnitude, and the two colour components.\n",
    "2. Declare a colour/magnitude range that will be used to parameterize the space over which the polynomial fit is made. The colour range is selected to 0.3 mag wider (at each end) than the {TS1, TS2} range set by Germano in the Target_Selection_Main_V1.03 notebook.\n",
    "3. For each cluster, select stars that lie in this colour/magnitude space and apply a 2nd-order polynomial fit. The idea here is to discard the \"bright\" equal-mass unresolved multiple stars and select a sample of likely single objects to define the final polynomial fit. In some cases, like the Pleiades, this fit cuts seems to cut off the single sequence around the mid-K-type stars, so the curve is shifted brighter in absolution magnitude by a small amount (~0.35 mag).\n",
    "4. For the stars that lie fainter than the 2nd order polynomial, apply a fourth order polynomial and return the coefficients. Just on visual assessment, a 4th order seems to work best because there seem to be about 4 deflections in the shape of the cluster sequences.\n",
    "5. Pass the corrected colours and magnitudes and the polynomial coefficients to a plotting routine. "
   ]
  },
  {
   "cell_type": "code",
   "execution_count": 11,
   "id": "d16b1a83",
   "metadata": {},
   "outputs": [],
   "source": [
    "def prepare_cmd(CMDtype, d_mod, ed_mod, EBV, eEBV, absM, col, plotcol1, plotcol2, magshift, clus_name, makeplot):\n",
    "# Make reddening/extinction corrections using table provided in Gaia EDR3\n",
    "    col_buff = 0.3\n",
    "    if CMDtype == 'GKs':\n",
    "        p1 = t_ext[(t_ext['Xname'] == 'GK') & (t_ext['Kname'] == 'kG')]\n",
    "        p2 = t_ext[(t_ext['Xname'] == 'GK') & (t_ext['Kname'] == 'kG')]\n",
    "        p3 = t_ext[(t_ext['Xname'] == 'GK') & (t_ext['Kname'] == 'kK')]\n",
    "        limcol = [1.5-col_buff, 4.2+col_buff]\n",
    "        limmag = [2.0,99]\n",
    "        plt.xlabel(r\"$(G-K_{\\rm s})_{0}$\")\n",
    "\n",
    "    if CMDtype == 'GBPRP':\n",
    "        p1 = t_ext[(t_ext['Xname'] == 'BPRP') & (t_ext['Kname'] == 'kG')]\n",
    "        p2 = t_ext[(t_ext['Xname'] == 'BPRP') & (t_ext['Kname'] == 'kBP')]\n",
    "        p3 = t_ext[(t_ext['Xname'] == 'BPRP') & (t_ext['Kname'] == 'kRP')]\n",
    "        limcol = [0.9-col_buff,3.4+col_buff]\n",
    "        limmag = [0.0,10.2]\n",
    "        plt.xlabel(r\"BP-RP\")\n",
    "    plt.ylabel(r\"$G_{0}$\")\n",
    "    plt.xlim(limcol)\n",
    "\n",
    "    A1 = np.array([get_ext(3.09*EBV, col[i], absM[i], p1) for i in range(len(absM))])\n",
    "    A2 = np.array([get_ext(3.09*EBV, col[i], absM[i], p2) for i in range(len(absM))])\n",
    "    A3 = np.array([get_ext(3.09*EBV, col[i], absM[i], p3) for i in range(len(absM))])\n",
    "    mag0 = np.array(absM) - d_mod - A1\n",
    "    col0 = np.array(col)-(A2-A3)\n",
    "\n",
    "# Only want G6V -- M7V range for the CMD fit. This easily covers the\n",
    "# colour range for the 4MOST selection, but not too large that we have\n",
    "# to worry about MSTO or extremely (intrinsically) faint stars/BDs.\n",
    "    colR = col0[(col0 > limcol[0]) & (col0 < limcol[1]) & (mag0 > limmag[0]) & (mag0 < limmag[1])]\n",
    "    magR = mag0[(col0 > limcol[0]) & (col0 < limcol[1]) & (mag0 > limmag[0]) & (mag0 < limmag[1])]\n",
    "# Sort colour/magnitude points in \"increasing\" colour (\"decreasing\" Teff).\n",
    "    ind = np.argsort(colR)\n",
    "    colR, magR = colR[ind], magR[ind]\n",
    "    p = np.polyfit(colR, magR-0.35, 2)\n",
    "    g = [magR >= np.polyval(p, colR)-magshift]\n",
    "    p2= np.polyfit(colR[tuple(g)], magR[tuple(g)], 4)\n",
    "    chi_squared = np.sum((np.polyval(p2, colR[g]) - magR[g]) ** 2)/(len(magR[g])-1)\n",
    "    if makeplot == 1:\n",
    "# Plot data-points\n",
    "        ax.scatter(colR, magR, s=10, color=plotcol1, label=clus_name)\n",
    "\n",
    "# second-order poly (and plot this)\n",
    "        ax.plot(colR,np.polyval(p, colR)-magshift,color=plotcol2)\n",
    "\n",
    "# sometimes it's good to shift this up and down by a few tenths of a\n",
    "# magnitude to check we're getting enough stars in the \"single\"\n",
    "# population and not having gaps in the calibrator points at any\n",
    "# given colour (this is just done by eye).\n",
    "        ax.plot(colR[g],np.polyval(p2, colR[g]), '--', color=plotcol2)\n",
    "        return p2, colR, magR, chi_squared\n",
    "    else:\n",
    "        return p2, colR, magR, chi_squared"
   ]
  },
  {
   "cell_type": "markdown",
   "id": "ddd4d829",
   "metadata": {},
   "source": [
    "## Apply the Bp-Rp corrections to the cluster data (and remove any outliers)"
   ]
  },
  {
   "cell_type": "code",
   "execution_count": 15,
   "id": "81c4db09",
   "metadata": {},
   "outputs": [
    {
     "name": "stderr",
     "output_type": "stream",
     "text": [
      "/tmp/ipykernel_218411/1821515935.py:3: RuntimeWarning: invalid value encountered in power\n",
      "  condphot = np.abs(phot_excess) < nsig*(0.0059898+8.817481e-12*data['Gmag']**(7.618399))\n"
     ]
    },
    {
     "ename": "KeyError",
     "evalue": "'BPmag'",
     "output_type": "error",
     "traceback": [
      "\u001b[0;31m---------------------------------------------------------------------------\u001b[0m",
      "\u001b[0;31mKeyError\u001b[0m                                  Traceback (most recent call last)",
      "Input \u001b[0;32mIn [15]\u001b[0m, in \u001b[0;36m<cell line: 13>\u001b[0;34m()\u001b[0m\n\u001b[1;32m     11\u001b[0m NGC2547 \u001b[38;5;241m=\u001b[39m photclean(NGC2547, \u001b[38;5;241m5.\u001b[39m)\n\u001b[1;32m     12\u001b[0m Hyades  \u001b[38;5;241m=\u001b[39m ascii\u001b[38;5;241m.\u001b[39mread(\u001b[38;5;124m\"\u001b[39m\u001b[38;5;124m./clusters/Hyades_Oh20_EDR3_JHKs_final.dat\u001b[39m\u001b[38;5;124m\"\u001b[39m)\n\u001b[0;32m---> 13\u001b[0m Hyades[\u001b[38;5;124m\"\u001b[39m\u001b[38;5;124mBPRP\u001b[39m\u001b[38;5;124m\"\u001b[39m] \u001b[38;5;241m=\u001b[39m \u001b[43mHyades\u001b[49m\u001b[43m[\u001b[49m\u001b[38;5;124;43m\"\u001b[39;49m\u001b[38;5;124;43mBPmag\u001b[39;49m\u001b[38;5;124;43m\"\u001b[39;49m\u001b[43m]\u001b[49m\u001b[38;5;241m-\u001b[39mHyades[\u001b[38;5;124m\"\u001b[39m\u001b[38;5;124mRPmag\u001b[39m\u001b[38;5;124m\"\u001b[39m]\n\u001b[1;32m     14\u001b[0m Hyades \u001b[38;5;241m=\u001b[39m photclean(Hyades, \u001b[38;5;241m5.\u001b[39m)\n",
      "File \u001b[0;32m~/anaconda3/lib/python3.9/site-packages/astropy/table/table.py:1882\u001b[0m, in \u001b[0;36mTable.__getitem__\u001b[0;34m(self, item)\u001b[0m\n\u001b[1;32m   1880\u001b[0m \u001b[38;5;28;01mdef\u001b[39;00m \u001b[38;5;21m__getitem__\u001b[39m(\u001b[38;5;28mself\u001b[39m, item):\n\u001b[1;32m   1881\u001b[0m     \u001b[38;5;28;01mif\u001b[39;00m \u001b[38;5;28misinstance\u001b[39m(item, \u001b[38;5;28mstr\u001b[39m):\n\u001b[0;32m-> 1882\u001b[0m         \u001b[38;5;28;01mreturn\u001b[39;00m \u001b[38;5;28;43mself\u001b[39;49m\u001b[38;5;241;43m.\u001b[39;49m\u001b[43mcolumns\u001b[49m\u001b[43m[\u001b[49m\u001b[43mitem\u001b[49m\u001b[43m]\u001b[49m\n\u001b[1;32m   1883\u001b[0m     \u001b[38;5;28;01melif\u001b[39;00m \u001b[38;5;28misinstance\u001b[39m(item, (\u001b[38;5;28mint\u001b[39m, np\u001b[38;5;241m.\u001b[39minteger)):\n\u001b[1;32m   1884\u001b[0m         \u001b[38;5;28;01mreturn\u001b[39;00m \u001b[38;5;28mself\u001b[39m\u001b[38;5;241m.\u001b[39mRow(\u001b[38;5;28mself\u001b[39m, item)\n",
      "File \u001b[0;32m~/anaconda3/lib/python3.9/site-packages/astropy/table/table.py:247\u001b[0m, in \u001b[0;36mTableColumns.__getitem__\u001b[0;34m(self, item)\u001b[0m\n\u001b[1;32m    237\u001b[0m \u001b[38;5;124;03m\"\"\"Get items from a TableColumns object.\u001b[39;00m\n\u001b[1;32m    238\u001b[0m \u001b[38;5;124;03m::\u001b[39;00m\n\u001b[1;32m    239\u001b[0m \n\u001b[0;32m   (...)\u001b[0m\n\u001b[1;32m    244\u001b[0m \u001b[38;5;124;03m  tc[1:3] # <TableColumns names=('b', 'c')>\u001b[39;00m\n\u001b[1;32m    245\u001b[0m \u001b[38;5;124;03m\"\"\"\u001b[39;00m\n\u001b[1;32m    246\u001b[0m \u001b[38;5;28;01mif\u001b[39;00m \u001b[38;5;28misinstance\u001b[39m(item, \u001b[38;5;28mstr\u001b[39m):\n\u001b[0;32m--> 247\u001b[0m     \u001b[38;5;28;01mreturn\u001b[39;00m \u001b[43mOrderedDict\u001b[49m\u001b[38;5;241;43m.\u001b[39;49m\u001b[38;5;21;43m__getitem__\u001b[39;49m\u001b[43m(\u001b[49m\u001b[38;5;28;43mself\u001b[39;49m\u001b[43m,\u001b[49m\u001b[43m \u001b[49m\u001b[43mitem\u001b[49m\u001b[43m)\u001b[49m\n\u001b[1;32m    248\u001b[0m \u001b[38;5;28;01melif\u001b[39;00m \u001b[38;5;28misinstance\u001b[39m(item, (\u001b[38;5;28mint\u001b[39m, np\u001b[38;5;241m.\u001b[39minteger)):\n\u001b[1;32m    249\u001b[0m     \u001b[38;5;28;01mreturn\u001b[39;00m \u001b[38;5;28mlist\u001b[39m(\u001b[38;5;28mself\u001b[39m\u001b[38;5;241m.\u001b[39mvalues())[item]\n",
      "\u001b[0;31mKeyError\u001b[0m: 'BPmag'"
     ]
    }
   ],
   "source": [
    "t_ext = Table.read(\"extinction_corr_MS.csv\")\n",
    "\n",
    "GES       = ascii.read(\"./clusters/table3_idr6_final_eDR3.csv\")\n",
    "GES[\"BPRP\"] = GES[\"BPmag\"]-GES[\"RPmag\"]\n",
    "GES = photclean(GES, 5.)\n",
    "Pleiades = ascii.read(\"./clusters/Pleiades_eDR3_JHKs_final.dat\")\n",
    "Pleiades[\"BPRP\"] = Pleiades[\"BPmag\"]-Pleiades[\"RPmag\"]\n",
    "Pleiades = photclean(Pleiades, 5.)\n",
    "NGC2547  = ascii.read(\"./clusters/NGC2547_eDR3_JHKs_final.dat\")\n",
    "NGC2547[\"BPRP\"] = NGC2547[\"BPmag\"]-NGC2547[\"RPmag\"]\n",
    "NGC2547 = photclean(NGC2547, 5.)\n",
    "Hyades  = ascii.read(\"./clusters/Hyades_Oh20_EDR3_JHKs_final.dat\")\n",
    "Hyades[\"BPRP\"] = Hyades[\"BPmag\"]-Hyades[\"RPmag\"]\n",
    "Hyades = photclean(Hyades, 5.)"
   ]
  },
  {
   "cell_type": "markdown",
   "id": "e94d9117",
   "metadata": {},
   "source": [
    "## Choosing 2MASS or VHS\n",
    "The choice of whether Ks magnitudes come from 2MASS or VHS have already been selected in the GES table. This cell simply selects whether to use 2MASS or VHS for the Jeffries+05 targets. Neither the Pleiades nor the Hyades objects are southern enough to be observed in VHS."
   ]
  },
  {
   "cell_type": "code",
   "execution_count": null,
   "id": "27645b9b",
   "metadata": {},
   "outputs": [],
   "source": [
    "# Minor correction to put the 2MASS data on the correct photometric scale as VHS.\n",
    "# Page 11 (eqn 4.3.1) http://www.eso.org/rm/api/v1/public/releaseDescriptions/144\n",
    "NGC2547[\"Ksmag\"]  = NGC2547[\"Ksmag\"]  + 0.01*(NGC2547[\"Jmag\"]-NGC2547[\"Ksmag\"])\n",
    "\n",
    "\n",
    "# JUST DEAL WITH THE OBJECTS IN COMMON FOR NGC2547. Pleiades in the north so no\n",
    "# VHS counterparts.\n",
    "Ks_TM, Ks_VH = [], []\n",
    "Ks_fin, eKs_fin, rKs_fin = [], [], []\n",
    "\n",
    "for Vf, Tf in enumerate(NGC2547[\"Ksmag\"]):\n",
    "    Ks_T, eKs_T = NGC2547[Vf][\"Ksmag\"], NGC2547[Vf][\"e_Ksmag\"]\n",
    "    Ks_V, eKs_V = NGC2547[Vf][\"Ksap3\"], NGC2547[Vf][\"e_Ksap3\"]\n",
    "    if Ks_V < 12.5:\n",
    "        Ks_TM.append(Ks_T)\n",
    "        Ks_VH.append(Ks_V)\n",
    "        Ks_fin.append(Ks_T)\n",
    "        eKs_fin.append(eKs_T)\n",
    "        rKs_fin.append(\"TB\")\n",
    "    if Ks_V >= 12.5:\n",
    "        if eKs_V > eKs_T:\n",
    "            Ks_TM.append(Ks_T)\n",
    "            Ks_VH.append(Ks_V)\n",
    "            Ks_fin.append(Ks_T)\n",
    "            eKs_fin.append(eKs_T)\n",
    "            rKs_fin.append(\"TF\")\n",
    "        else:\n",
    "            Ks_TM.append(Ks_T)\n",
    "            Ks_VH.append(Ks_V)\n",
    "            Ks_fin.append(Ks_V)\n",
    "            eKs_fin.append(eKs_V)\n",
    "            rKs_fin.append(\"VF\")"
   ]
  },
  {
   "cell_type": "markdown",
   "id": "eb5ee379",
   "metadata": {},
   "source": [
    "## Choosing the colours and magnitudes to plot\n",
    "In an attempt to make the code generic for any set of colours/magnitudes, the following function reads in the chosen magnitude and colours (and applies a colour correction if this is Bp-Rp)."
   ]
  },
  {
   "cell_type": "code",
   "execution_count": null,
   "id": "eb7c3ad5",
   "metadata": {},
   "outputs": [],
   "source": [
    "def set_up_plot(tab_in, m1, m2, m3, phot_corr):\n",
    "    for m in m1:\n",
    "        for col in tab_in.columns:\n",
    "            if m == col:\n",
    "                mag_out = tab_in[m]\n",
    "    for m in m2:\n",
    "        for col in tab_in.columns:\n",
    "            if m == col:\n",
    "                m1_out = tab_in[m]\n",
    "    for m in m3:\n",
    "        for col in tab_in.columns:\n",
    "            if m == col:\n",
    "                m2_out = tab_in[m]\n",
    "    if phot_corr is not None:\n",
    "        for m in phot_corr:\n",
    "            for col in tab_in.columns:\n",
    "                if m == col:\n",
    "                    cor_out = np.array(tab_in[m], dtype=float)\n",
    "        col_out = m1_out - m2_out + cor_out\n",
    "    else:\n",
    "        col_out = m1_out - m2_out\n",
    "    return mag_out, col_out"
   ]
  },
  {
   "cell_type": "markdown",
   "id": "0beba3bc",
   "metadata": {},
   "source": [
    "## Cleaning the parent samples.\n",
    "Some basic cuts on the data to ensure high probability members are chosen."
   ]
  },
  {
   "cell_type": "code",
   "execution_count": null,
   "id": "0039cd7d",
   "metadata": {},
   "outputs": [],
   "source": [
    "NGC2547[\"Ks_fin\"], NGC2547[\"eKs_fin\"] = Ks_fin, eKs_fin\n",
    "NGC2547 = NGC2547[NGC2547[\"ruwe\"]<1.4]\n",
    "NGC2547.remove_columns(['Ksmag', 'e_Ksmag'])\n",
    "\n",
    "Pleiades = Pleiades[(Pleiades[\"ruwe\"]<1.4) & (Pleiades[\"pc\"] >= 0.99)]\n",
    "gamVel = GES[(GES[\"CLUSTER\"]==\"gamma2_Vel\") & (GES[\"MEM3D\"] >= 0.95)]\n",
    "NGC6530 = GES[(GES[\"CLUSTER\"]==\"NGC6530\") & (GES[\"MEM3D\"] >= 0.95)]\n",
    "NGC2516 = GES[(GES[\"CLUSTER\"]==\"NGC2516\") & (GES[\"MEM3D\"] >= 0.95)]\n"
   ]
  },
  {
   "cell_type": "markdown",
   "id": "893b15a0",
   "metadata": {},
   "source": [
    "## Supply a choice of CMD\n",
    "User needs to input whether they want the G vs G-Ks or G vs Bp-Rp CMD."
   ]
  },
  {
   "cell_type": "code",
   "execution_count": null,
   "id": "b0eacd9c",
   "metadata": {},
   "outputs": [],
   "source": [
    "x = input(\"Which CMD do you want? \\n(1) = G vs G-Ks, (2) = G vs BP-RP\")\n",
    "choose_col = None\n",
    "if int(x) == 1:\n",
    "    choose_col = \"GKs\"\n",
    "    m1_t = ['phot_g_mean_mag', 'Gmag', 'GMAG']\n",
    "    m2_t = ['phot_g_mean_mag', 'Gmag', 'GMAG']\n",
    "    m3_t = ['Kmag','Ks_fin', 'Ksmag', 'KMAGP']\n",
    "    phot_corr = None\n",
    "if int(x) == 2:\n",
    "    choose_col = \"GBPRP\"    \n",
    "    m1_t = ['phot_g_mean_mag','Gmag', 'GMAG']\n",
    "    m2_t = ['BPmag', 'phot_bp_mean_mag']\n",
    "    m3_t = ['RPmag', 'phot_rp_mean_mag']\n",
    "    phot_corr = [\"BPRPcorr\"]"
   ]
  },
  {
   "cell_type": "markdown",
   "id": "aa750217",
   "metadata": {},
   "source": [
    "## Run the plots\n",
    "Prepare the cleaning, extinction/reddening corrections, polynomial fitting and plots. These are pre-selected based on the choice of CMD. The final polynomial fits are saved as x_p2 (where x is the cluster name). The E(B-V)/d_mod are hardwired for each cluster."
   ]
  },
  {
   "cell_type": "code",
   "execution_count": null,
   "id": "f74aa79a",
   "metadata": {
    "scrolled": true
   },
   "outputs": [],
   "source": [
    "fig, ax = plt.subplots(figsize=(8,8))\n",
    "ax.grid()\n",
    "plt.gca().invert_yaxis()\n",
    "\n",
    "NGC6530_p2,  NGC6530_col,  NGC6530_mag,  NGC6530_chi2  = prepare_cmd(choose_col,\n",
    "             10.6, quad_sum(0.02, 0.09),\n",
    "             0.44, 0.10, \n",
    "             set_up_plot(NGC6530, m1_t, m2_t, m3_t, phot_corr)[0],\n",
    "             set_up_plot(NGC6530, m1_t, m2_t, m3_t, phot_corr)[1], \n",
    "             'gray', 'darkgray', 0.0, 'NGC 6530 ($1-2\\,$Myr)', 0)\n",
    "gamVel_p2,   gamVel_col,   gamVel_mag,   gamVel_chi2   = prepare_cmd(choose_col,\n",
    "             7.73, quad_sum(0.01, 0.02),\n",
    "             0.04, 0.03, \n",
    "             set_up_plot(gamVel, m1_t, m2_t, m3_t, phot_corr)[0], \n",
    "             set_up_plot(gamVel, m1_t, m2_t, m3_t, phot_corr)[1], \n",
    "             'limegreen', 'darkgreen', 0.0, 'gam Vel ($15-25\\,$Myr)', 0)\n",
    "Pleiades_p2, Pleiades_col, Pleiades_mag, Pleiades_chi2 = prepare_cmd(choose_col,\n",
    "             5.65, 0.03,\n",
    "             0.03, 0.01, \n",
    "             set_up_plot(Pleiades, m1_t, m2_t, m3_t, phot_corr)[0], \n",
    "             set_up_plot(Pleiades, m1_t, m2_t, m3_t, phot_corr)[1], \n",
    "             'pink', 'red', 0.0, 'Pleiades ($125\\pm10\\,$Myr)', 1)\n",
    "NGC2547_p2,  NGC2547_col,  NGC2547_mag,  NGC2547_chi2  = prepare_cmd(choose_col,\n",
    "             7.93, quad_sum(0.01, 0.03),\n",
    "             0.06, 0.03, \n",
    "             set_up_plot(NGC2547, m1_t, m2_t, m3_t, phot_corr)[0], \n",
    "             set_up_plot(NGC2547, m1_t, m2_t, m3_t, phot_corr)[1],  \n",
    "             'skyblue', 'blue', 0.0, 'NGC 2547 ($38-41\\,$Myr)', 1)\n",
    "NGC2516_p2,  NGC2516_col,  NGC2516_mag,  NGC2516_chi2  = prepare_cmd(choose_col,\n",
    "             8.07, quad_sum(0.01, 0.03),\n",
    "             0.11, 0.03, \n",
    "             set_up_plot(NGC2516, m1_t, m2_t, m3_t, phot_corr)[0], \n",
    "             set_up_plot(NGC2516, m1_t, m2_t, m3_t, phot_corr)[1], \n",
    "             'brown', 'brown', 0.0, 'NGC 2516 ($100-150\\,$Myr)', 0)\n",
    "Hyades_p2,   Hyades_col,   Hyades_mag,   Hyades_chi2   = prepare_cmd(choose_col,\n",
    "             0.0, 0.010,\n",
    "             0.01, 0.01, \n",
    "             set_up_plot(Hyades, m1_t, m2_t, m3_t, phot_corr)[0]-5.0*np.log10(100./Hyades[\"parallax\"]),\n",
    "             set_up_plot(Hyades, m1_t, m2_t, m3_t, phot_corr)[1], \n",
    "             'orange', 'peru', 0.0, 'Hyades ($625\\pm50\\,$Myr)', 1)\n",
    "\n",
    "print(NGC2547_p2, NGC2547_chi2)\n",
    "print(Pleiades_p2, Pleiades_chi2)\n",
    "\n",
    "ax.legend()\n",
    "fig.savefig(choose_col+\"_CMD.jpg\")"
   ]
  },
  {
   "cell_type": "markdown",
   "id": "92ac764d",
   "metadata": {},
   "source": [
    "## A quick idea from Rob Jeffries\n",
    "1. Fit the Pleiades polynomial to NGC2516 colours.\n",
    "2. Find the fraction of NGC2516 stars that are fainter than the fit.\n",
    "3. If this fraction is >5% keep shifting them bright, and find how brighter one would have to shift the Pleiades fit until it let in 95% of the NGC2516 data. It might be useful for a lower-limit to the chosen fit, however, it could also lead to contamination from much older MS stars."
   ]
  },
  {
   "cell_type": "code",
   "execution_count": null,
   "id": "c129fc81",
   "metadata": {},
   "outputs": [],
   "source": [
    "NGC2516_fit = make_fit(4, Pleiades_p2, NGC2516_col)\n",
    "\n",
    "IsoDiff = NGC2516_mag - NGC2516_fit  > 0.0\n",
    "n_miss = sum(bool(x) for x in IsoDiff)/len(IsoDiff)\n",
    "j=0\n",
    "while n_miss > 0.05:\n",
    "    IsoDiff = NGC2516_mag - NGC2516_fit  > 0.0\n",
    "    n_miss = sum(bool(x) for x in IsoDiff)/len(IsoDiff)\n",
    "    print(\"n_miss = %4.2f, j = %4.2f\" % (n_miss, j))\n",
    "    NGC2516_mag = NGC2516_mag - 0.01\n",
    "    j = j - 0.01\n"
   ]
  }
 ],
 "metadata": {
  "kernelspec": {
   "display_name": "Python 3 (ipykernel)",
   "language": "python",
   "name": "python3"
  },
  "language_info": {
   "codemirror_mode": {
    "name": "ipython",
    "version": 3
   },
   "file_extension": ".py",
   "mimetype": "text/x-python",
   "name": "python",
   "nbconvert_exporter": "python",
   "pygments_lexer": "ipython3",
   "version": "3.9.7"
  }
 },
 "nbformat": 4,
 "nbformat_minor": 5
}
